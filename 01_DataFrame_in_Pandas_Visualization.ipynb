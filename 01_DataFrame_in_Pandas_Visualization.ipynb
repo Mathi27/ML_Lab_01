{
 "cells": [
  {
   "cell_type": "code",
   "execution_count": 22,
   "id": "3c84420a-8a26-4fd4-9a0c-2b36b03aba1a",
   "metadata": {},
   "outputs": [],
   "source": [
    "import numpy as np\n",
    "import pandas as pd\n",
    "import seaborn as sns\n",
    "import matplotlib.pyplot as plt\n",
    "import sklearn"
   ]
  },
  {
   "cell_type": "code",
   "execution_count": 24,
   "id": "dd963dff-4d53-41f5-8066-c70a8f44036d",
   "metadata": {},
   "outputs": [
    {
     "name": "stdout",
     "output_type": "stream",
     "text": [
      "Hello world to machine learning\n"
     ]
    }
   ],
   "source": [
    "print(\"Hello world to machine learning\")"
   ]
  },
  {
   "cell_type": "code",
   "execution_count": 26,
   "id": "781538ba-a43e-4202-b713-3c01047f9042",
   "metadata": {},
   "outputs": [],
   "source": [
    "import pandas as pd\n",
    "imdbDataFrame = pd.read_csv('imdb.csv')"
   ]
  },
  {
   "cell_type": "code",
   "execution_count": 30,
   "id": "0761993c-b90e-40ed-aa23-f66f6ec2bdb5",
   "metadata": {},
   "outputs": [
    {
     "name": "stdout",
     "output_type": "stream",
     "text": [
      "(14761, 7)\n"
     ]
    }
   ],
   "source": [
    "print(imdbDataFrame.shape)"
   ]
  },
  {
   "cell_type": "code",
   "execution_count": 32,
   "id": "20788554-3873-4b55-90d4-20d18a3ce9ff",
   "metadata": {},
   "outputs": [
    {
     "name": "stdout",
     "output_type": "stream",
     "text": [
      "Index(['title', 'rating', 'year', 'wins', 'nominations', 'news', 'reviews'], dtype='object')\n"
     ]
    }
   ],
   "source": [
    "print(imdbDataFrame.columns)"
   ]
  },
  {
   "cell_type": "code",
   "execution_count": 36,
   "id": "b5c4931f-ee17-4ba3-869d-207d3e465677",
   "metadata": {},
   "outputs": [
    {
     "name": "stdout",
     "output_type": "stream",
     "text": [
      "                              title rating  year wins nominations  news  \\\n",
      "0  Der Vagabund und das Kind (1921)    8.4  1921    1           0    96   \n",
      "1                 Goldrausch (1925)    8.3  1925    2           1   110   \n",
      "2                 Metropolis (1927)    8.4  1927    3           4   428   \n",
      "3                Der General (1926)    8.3  1926    1           1   123   \n",
      "4      Lichter der Großstadt (1931)    8.7  1931    2           0   187   \n",
      "5                          M (1931)    8.5  1931    1           0     4   \n",
      "6  Es geschah in einer Nacht (1934)    8.3  1934    4           1   183   \n",
      "7             Moderne Zeiten (1936)    8.6  1936    3           1    27   \n",
      "8          Vom Winde verweht (1939)    8.2  1939   10           6  1263   \n",
      "\n",
      "   reviews  \n",
      "0       85  \n",
      "1      122  \n",
      "2      376  \n",
      "3      219  \n",
      "4      186  \n",
      "5      254  \n",
      "6      211  \n",
      "7      180  \n",
      "8      653  \n"
     ]
    }
   ],
   "source": [
    "print(imdbDataFrame.head(9))"
   ]
  },
  {
   "cell_type": "code",
   "execution_count": 38,
   "id": "39bb38d4-b5e6-412d-bb73-3e6222e4a7aa",
   "metadata": {},
   "outputs": [
    {
     "data": {
      "text/plain": [
       "0        1\n",
       "1        2\n",
       "2        3\n",
       "3        1\n",
       "4        2\n",
       "        ..\n",
       "14756    0\n",
       "14757    0\n",
       "14758    0\n",
       "14759    0\n",
       "14760    0\n",
       "Name: wins, Length: 14761, dtype: object"
      ]
     },
     "execution_count": 38,
     "metadata": {},
     "output_type": "execute_result"
    }
   ],
   "source": [
    "imdbDataFrame.wins"
   ]
  },
  {
   "cell_type": "code",
   "execution_count": 40,
   "id": "128008ae-1eb7-46af-ad97-7864e8fece8d",
   "metadata": {},
   "outputs": [
    {
     "data": {
      "text/plain": [
       "0        0\n",
       "1        1\n",
       "2        4\n",
       "3        1\n",
       "4        0\n",
       "        ..\n",
       "14756    0\n",
       "14757    0\n",
       "14758    0\n",
       "14759    0\n",
       "14760    0\n",
       "Name: nominations, Length: 14761, dtype: object"
      ]
     },
     "execution_count": 40,
     "metadata": {},
     "output_type": "execute_result"
    }
   ],
   "source": [
    "imdbDataFrame.nominations"
   ]
  },
  {
   "cell_type": "code",
   "execution_count": 42,
   "id": "ed058d45-167e-450a-b662-27a77aeddb1e",
   "metadata": {},
   "outputs": [
    {
     "data": {
      "text/plain": [
       "0                         Der Vagabund und das Kind (1921)\n",
       "1                                        Goldrausch (1925)\n",
       "2                                        Metropolis (1927)\n",
       "3                                       Der General (1926)\n",
       "4                             Lichter der Großstadt (1931)\n",
       "                               ...                        \n",
       "14756               Peep Show Sectioning (TV Episode 2005)\n",
       "14757    Playhouse 90 The Miracle Worker (TV Episode 1957)\n",
       "14758    Private Screenings Robert Mitchum and Jane Rus...\n",
       "14759      Providence All the King's Men (TV Episode 2002)\n",
       "14760                            QI Adam (TV Episode 2003)\n",
       "Name: title, Length: 14761, dtype: object"
      ]
     },
     "execution_count": 42,
     "metadata": {},
     "output_type": "execute_result"
    }
   ],
   "source": [
    "imdbDataFrame.title"
   ]
  },
  {
   "cell_type": "code",
   "execution_count": 46,
   "id": "2d05a3b2-cb80-4a9b-b361-b25fc22608d7",
   "metadata": {},
   "outputs": [
    {
     "data": {
      "text/plain": [
       "0        1921\n",
       "1        1925\n",
       "2        1927\n",
       "3        1926\n",
       "4        1931\n",
       "         ... \n",
       "14756    2005\n",
       "14757    1957\n",
       "14758    1996\n",
       "14759    2002\n",
       "14760    2003\n",
       "Name: year, Length: 14761, dtype: object"
      ]
     },
     "execution_count": 46,
     "metadata": {},
     "output_type": "execute_result"
    }
   ],
   "source": [
    "imdbDataFrame.year"
   ]
  },
  {
   "cell_type": "code",
   "execution_count": 48,
   "id": "2863b3a6-ab01-43f0-a3c5-0a7777a25c3e",
   "metadata": {},
   "outputs": [
    {
     "data": {
      "text/plain": [
       "0         96\n",
       "1        110\n",
       "2        428\n",
       "3        123\n",
       "4        187\n",
       "        ... \n",
       "14756      0\n",
       "14757      0\n",
       "14758      0\n",
       "14759      0\n",
       "14760      0\n",
       "Name: news, Length: 14761, dtype: object"
      ]
     },
     "execution_count": 48,
     "metadata": {},
     "output_type": "execute_result"
    }
   ],
   "source": [
    "imdbDataFrame.news"
   ]
  },
  {
   "cell_type": "code",
   "execution_count": 50,
   "id": "c91a787f-ecfb-45f0-8ef0-f75309f6c0b6",
   "metadata": {},
   "outputs": [
    {
     "data": {
      "text/html": [
       "<div>\n",
       "<style scoped>\n",
       "    .dataframe tbody tr th:only-of-type {\n",
       "        vertical-align: middle;\n",
       "    }\n",
       "\n",
       "    .dataframe tbody tr th {\n",
       "        vertical-align: top;\n",
       "    }\n",
       "\n",
       "    .dataframe thead th {\n",
       "        text-align: right;\n",
       "    }\n",
       "</style>\n",
       "<table border=\"1\" class=\"dataframe\">\n",
       "  <thead>\n",
       "    <tr style=\"text-align: right;\">\n",
       "      <th></th>\n",
       "      <th>wins</th>\n",
       "      <th>nominations</th>\n",
       "    </tr>\n",
       "  </thead>\n",
       "  <tbody>\n",
       "    <tr>\n",
       "      <th>0</th>\n",
       "      <td>1</td>\n",
       "      <td>0</td>\n",
       "    </tr>\n",
       "    <tr>\n",
       "      <th>1</th>\n",
       "      <td>2</td>\n",
       "      <td>1</td>\n",
       "    </tr>\n",
       "    <tr>\n",
       "      <th>2</th>\n",
       "      <td>3</td>\n",
       "      <td>4</td>\n",
       "    </tr>\n",
       "    <tr>\n",
       "      <th>3</th>\n",
       "      <td>1</td>\n",
       "      <td>1</td>\n",
       "    </tr>\n",
       "    <tr>\n",
       "      <th>4</th>\n",
       "      <td>2</td>\n",
       "      <td>0</td>\n",
       "    </tr>\n",
       "    <tr>\n",
       "      <th>...</th>\n",
       "      <td>...</td>\n",
       "      <td>...</td>\n",
       "    </tr>\n",
       "    <tr>\n",
       "      <th>14756</th>\n",
       "      <td>0</td>\n",
       "      <td>0</td>\n",
       "    </tr>\n",
       "    <tr>\n",
       "      <th>14757</th>\n",
       "      <td>0</td>\n",
       "      <td>0</td>\n",
       "    </tr>\n",
       "    <tr>\n",
       "      <th>14758</th>\n",
       "      <td>0</td>\n",
       "      <td>0</td>\n",
       "    </tr>\n",
       "    <tr>\n",
       "      <th>14759</th>\n",
       "      <td>0</td>\n",
       "      <td>0</td>\n",
       "    </tr>\n",
       "    <tr>\n",
       "      <th>14760</th>\n",
       "      <td>0</td>\n",
       "      <td>0</td>\n",
       "    </tr>\n",
       "  </tbody>\n",
       "</table>\n",
       "<p>14761 rows × 2 columns</p>\n",
       "</div>"
      ],
      "text/plain": [
       "      wins nominations\n",
       "0        1           0\n",
       "1        2           1\n",
       "2        3           4\n",
       "3        1           1\n",
       "4        2           0\n",
       "...    ...         ...\n",
       "14756    0           0\n",
       "14757    0           0\n",
       "14758    0           0\n",
       "14759    0           0\n",
       "14760    0           0\n",
       "\n",
       "[14761 rows x 2 columns]"
      ]
     },
     "execution_count": 50,
     "metadata": {},
     "output_type": "execute_result"
    }
   ],
   "source": [
    "imdbDataFrame[['wins','nominations']]"
   ]
  },
  {
   "cell_type": "code",
   "execution_count": 58,
   "id": "40f808aa-298b-43af-9439-ac123dca656d",
   "metadata": {},
   "outputs": [
    {
     "data": {
      "text/html": [
       "<div>\n",
       "<style scoped>\n",
       "    .dataframe tbody tr th:only-of-type {\n",
       "        vertical-align: middle;\n",
       "    }\n",
       "\n",
       "    .dataframe tbody tr th {\n",
       "        vertical-align: top;\n",
       "    }\n",
       "\n",
       "    .dataframe thead th {\n",
       "        text-align: right;\n",
       "    }\n",
       "</style>\n",
       "<table border=\"1\" class=\"dataframe\">\n",
       "  <thead>\n",
       "    <tr style=\"text-align: right;\">\n",
       "      <th></th>\n",
       "      <th>wins</th>\n",
       "      <th>nominations</th>\n",
       "    </tr>\n",
       "  </thead>\n",
       "  <tbody>\n",
       "    <tr>\n",
       "      <th>0</th>\n",
       "      <td>1</td>\n",
       "      <td>0</td>\n",
       "    </tr>\n",
       "    <tr>\n",
       "      <th>1</th>\n",
       "      <td>2</td>\n",
       "      <td>1</td>\n",
       "    </tr>\n",
       "    <tr>\n",
       "      <th>2</th>\n",
       "      <td>3</td>\n",
       "      <td>4</td>\n",
       "    </tr>\n",
       "    <tr>\n",
       "      <th>3</th>\n",
       "      <td>1</td>\n",
       "      <td>1</td>\n",
       "    </tr>\n",
       "    <tr>\n",
       "      <th>4</th>\n",
       "      <td>2</td>\n",
       "      <td>0</td>\n",
       "    </tr>\n",
       "  </tbody>\n",
       "</table>\n",
       "</div>"
      ],
      "text/plain": [
       "  wins nominations\n",
       "0    1           0\n",
       "1    2           1\n",
       "2    3           4\n",
       "3    1           1\n",
       "4    2           0"
      ]
     },
     "execution_count": 58,
     "metadata": {},
     "output_type": "execute_result"
    }
   ],
   "source": [
    "imdbDataFrame[['wins','nominations']].head()"
   ]
  },
  {
   "cell_type": "code",
   "execution_count": 62,
   "id": "93203106-ba78-440a-b538-86fd9a410ad2",
   "metadata": {},
   "outputs": [],
   "source": [
    "myNewDF = imdbDataFrame[['wins','nominations']]"
   ]
  },
  {
   "cell_type": "code",
   "execution_count": 64,
   "id": "7c2612cd-1935-4c55-b2be-04adf99bce18",
   "metadata": {},
   "outputs": [
    {
     "name": "stdout",
     "output_type": "stream",
     "text": [
      "  wins nominations\n",
      "0    1           0\n",
      "1    2           1\n",
      "2    3           4\n",
      "3    1           1\n",
      "4    2           0\n"
     ]
    }
   ],
   "source": [
    "print(myNewDF.head())"
   ]
  },
  {
   "cell_type": "code",
   "execution_count": 66,
   "id": "bfcf3bd8-c9bf-4fcb-93e2-0f1637bd3996",
   "metadata": {},
   "outputs": [
    {
     "name": "stdout",
     "output_type": "stream",
     "text": [
      "  wins nominations\n",
      "0    1           0\n",
      "1    2           1\n",
      "2    3           4\n",
      "3    1           1\n",
      "4    2           0\n",
      "5    1           0\n",
      "6    4           1\n",
      "7    3           1\n",
      "8   10           6\n",
      "9    4          10\n"
     ]
    }
   ],
   "source": [
    "print(myNewDF.head(10))"
   ]
  },
  {
   "cell_type": "code",
   "execution_count": 68,
   "id": "858ad590-6b21-453d-963a-b73f46bb7d4d",
   "metadata": {},
   "outputs": [
    {
     "data": {
      "text/plain": [
       "wins           1\n",
       "nominations    0\n",
       "Name: 0, dtype: object"
      ]
     },
     "execution_count": 68,
     "metadata": {},
     "output_type": "execute_result"
    }
   ],
   "source": [
    "myNewDF.iloc[0]"
   ]
  },
  {
   "cell_type": "code",
   "execution_count": 70,
   "id": "2fdf06a7-9c1b-4115-89f2-9c53a8453b5f",
   "metadata": {},
   "outputs": [
    {
     "data": {
      "text/html": [
       "<div>\n",
       "<style scoped>\n",
       "    .dataframe tbody tr th:only-of-type {\n",
       "        vertical-align: middle;\n",
       "    }\n",
       "\n",
       "    .dataframe tbody tr th {\n",
       "        vertical-align: top;\n",
       "    }\n",
       "\n",
       "    .dataframe thead th {\n",
       "        text-align: right;\n",
       "    }\n",
       "</style>\n",
       "<table border=\"1\" class=\"dataframe\">\n",
       "  <thead>\n",
       "    <tr style=\"text-align: right;\">\n",
       "      <th></th>\n",
       "      <th>wins</th>\n",
       "      <th>nominations</th>\n",
       "    </tr>\n",
       "  </thead>\n",
       "  <tbody>\n",
       "    <tr>\n",
       "      <th>1</th>\n",
       "      <td>2</td>\n",
       "      <td>1</td>\n",
       "    </tr>\n",
       "    <tr>\n",
       "      <th>3</th>\n",
       "      <td>1</td>\n",
       "      <td>1</td>\n",
       "    </tr>\n",
       "    <tr>\n",
       "      <th>5</th>\n",
       "      <td>1</td>\n",
       "      <td>0</td>\n",
       "    </tr>\n",
       "  </tbody>\n",
       "</table>\n",
       "</div>"
      ],
      "text/plain": [
       "  wins nominations\n",
       "1    2           1\n",
       "3    1           1\n",
       "5    1           0"
      ]
     },
     "execution_count": 70,
     "metadata": {},
     "output_type": "execute_result"
    }
   ],
   "source": [
    "myNewDF.iloc[[1,3,5]]"
   ]
  },
  {
   "cell_type": "code",
   "execution_count": 72,
   "id": "b744886c-3aa7-4d81-8ee8-a23b60278b6a",
   "metadata": {},
   "outputs": [
    {
     "data": {
      "text/html": [
       "<div>\n",
       "<style scoped>\n",
       "    .dataframe tbody tr th:only-of-type {\n",
       "        vertical-align: middle;\n",
       "    }\n",
       "\n",
       "    .dataframe tbody tr th {\n",
       "        vertical-align: top;\n",
       "    }\n",
       "\n",
       "    .dataframe thead th {\n",
       "        text-align: right;\n",
       "    }\n",
       "</style>\n",
       "<table border=\"1\" class=\"dataframe\">\n",
       "  <thead>\n",
       "    <tr style=\"text-align: right;\">\n",
       "      <th></th>\n",
       "      <th>wins</th>\n",
       "      <th>nominations</th>\n",
       "    </tr>\n",
       "  </thead>\n",
       "  <tbody>\n",
       "    <tr>\n",
       "      <th>16</th>\n",
       "      <td>5</td>\n",
       "      <td>6</td>\n",
       "    </tr>\n",
       "    <tr>\n",
       "      <th>17</th>\n",
       "      <td>3</td>\n",
       "      <td>0</td>\n",
       "    </tr>\n",
       "    <tr>\n",
       "      <th>18</th>\n",
       "      <td>13</td>\n",
       "      <td>1</td>\n",
       "    </tr>\n",
       "    <tr>\n",
       "      <th>19</th>\n",
       "      <td>1</td>\n",
       "      <td>0</td>\n",
       "    </tr>\n",
       "    <tr>\n",
       "      <th>20</th>\n",
       "      <td>6</td>\n",
       "      <td>0</td>\n",
       "    </tr>\n",
       "    <tr>\n",
       "      <th>21</th>\n",
       "      <td>2</td>\n",
       "      <td>1</td>\n",
       "    </tr>\n",
       "  </tbody>\n",
       "</table>\n",
       "</div>"
      ],
      "text/plain": [
       "   wins nominations\n",
       "16    5           6\n",
       "17    3           0\n",
       "18   13           1\n",
       "19    1           0\n",
       "20    6           0\n",
       "21    2           1"
      ]
     },
     "execution_count": 72,
     "metadata": {},
     "output_type": "execute_result"
    }
   ],
   "source": [
    "myNewDF.iloc[16:22]"
   ]
  },
  {
   "cell_type": "code",
   "execution_count": 74,
   "id": "9faea559-6f0b-4508-9796-735db4b85c27",
   "metadata": {},
   "outputs": [
    {
     "data": {
      "text/plain": [
       "16     5\n",
       "17     3\n",
       "18    13\n",
       "19     1\n",
       "20     6\n",
       "21     2\n",
       "Name: wins, dtype: object"
      ]
     },
     "execution_count": 74,
     "metadata": {},
     "output_type": "execute_result"
    }
   ],
   "source": [
    "myNewDF.iloc[16:22]['wins']"
   ]
  },
  {
   "cell_type": "code",
   "execution_count": 76,
   "id": "a8e718ae-c920-48b5-b2b8-28699bd0cf84",
   "metadata": {},
   "outputs": [
    {
     "data": {
      "text/plain": [
       "16    6\n",
       "17    0\n",
       "18    1\n",
       "19    0\n",
       "20    0\n",
       "21    1\n",
       "Name: nominations, dtype: object"
      ]
     },
     "execution_count": 76,
     "metadata": {},
     "output_type": "execute_result"
    }
   ],
   "source": [
    "myNewDF.iloc[16:22]['nominations']"
   ]
  },
  {
   "cell_type": "code",
   "execution_count": 82,
   "id": "4f3aa084-66d3-4780-80df-e19642b6ace7",
   "metadata": {},
   "outputs": [
    {
     "data": {
      "text/plain": [
       "'0'"
      ]
     },
     "execution_count": 82,
     "metadata": {},
     "output_type": "execute_result"
    }
   ],
   "source": [
    "myNewDF.iloc[0,1]"
   ]
  },
  {
   "cell_type": "code",
   "execution_count": 88,
   "id": "9aad6693-ff2e-4ef8-8037-58aa31cd8bcf",
   "metadata": {},
   "outputs": [
    {
     "name": "stdout",
     "output_type": "stream",
     "text": [
      "<class 'pandas.core.frame.DataFrame'>\n",
      "RangeIndex: 14761 entries, 0 to 14760\n",
      "Data columns (total 7 columns):\n",
      " #   Column       Non-Null Count  Dtype \n",
      "---  ------       --------------  ----- \n",
      " 0   title        14761 non-null  object\n",
      " 1   rating       13582 non-null  object\n",
      " 2   year         14716 non-null  object\n",
      " 3   wins         14760 non-null  object\n",
      " 4   nominations  14761 non-null  object\n",
      " 5   news         14761 non-null  object\n",
      " 6   reviews      14761 non-null  int64 \n",
      "dtypes: int64(1), object(6)\n",
      "memory usage: 807.4+ KB\n",
      "None\n"
     ]
    }
   ],
   "source": [
    "#print the summary of the dataSet\n",
    "print(imdbDataFrame.info())"
   ]
  },
  {
   "cell_type": "code",
   "execution_count": 94,
   "id": "d780c536-c379-4db1-a17b-92f1ee2d6e94",
   "metadata": {},
   "outputs": [
    {
     "name": "stdout",
     "output_type": "stream",
     "text": [
      "            reviews\n",
      "count  14761.000000\n",
      "mean     103.616828\n",
      "std      233.638777\n",
      "min        0.000000\n",
      "25%        3.000000\n",
      "50%       29.000000\n",
      "75%      102.000000\n",
      "max     4928.000000\n"
     ]
    }
   ],
   "source": [
    "# To print the satistical summary of all numerical attributes.\n",
    "print(imdbDataFrame.describe())"
   ]
  },
  {
   "cell_type": "code",
   "execution_count": 102,
   "id": "a64db270-efea-4842-bd9a-8c96fd0028cf",
   "metadata": {},
   "outputs": [
    {
     "data": {
      "text/plain": [
       "<Axes: >"
      ]
     },
     "execution_count": 102,
     "metadata": {},
     "output_type": "execute_result"
    },
    {
     "data": {
      "image/png": "[encoded data removed]",
      "text/plain": [
       "<Figure size 640x480 with 1 Axes>"
      ]
     },
     "metadata": {},
     "output_type": "display_data"
    }
   ],
   "source": [
    "# To Plot the 'reviews' columns\n",
    "imdbDataFrame.plot()"
   ]
  },
  {
   "cell_type": "code",
   "execution_count": 104,
   "id": "4a152f8d-43e7-49ef-929c-e661e280d10c",
   "metadata": {},
   "outputs": [
    {
     "name": "stdout",
     "output_type": "stream",
     "text": [
      "                                                   title rating  year wins  \\\n",
      "0                       Der Vagabund und das Kind (1921)    8.4  1921    1   \n",
      "1                                      Goldrausch (1925)    8.3  1925    2   \n",
      "2                                      Metropolis (1927)    8.4  1927    3   \n",
      "3                                     Der General (1926)    8.3  1926    1   \n",
      "4                           Lichter der Großstadt (1931)    8.7  1931    2   \n",
      "...                                                  ...    ...   ...  ...   \n",
      "14756             Peep Show Sectioning (TV Episode 2005)    7.7  2005    0   \n",
      "14757  Playhouse 90 The Miracle Worker (TV Episode 1957)    7.3  1957    0   \n",
      "14758  Private Screenings Robert Mitchum and Jane Rus...      7  1996    0   \n",
      "14759    Providence All the King's Men (TV Episode 2002)    NaN  2002    0   \n",
      "14760                          QI Adam (TV Episode 2003)    7.6  2003    0   \n",
      "\n",
      "      nominations news  reviews  \n",
      "0               0   96       85  \n",
      "1               1  110      122  \n",
      "2               4  428      376  \n",
      "3               1  123      219  \n",
      "4               0  187      186  \n",
      "...           ...  ...      ...  \n",
      "14756           0    0        0  \n",
      "14757           0    0        0  \n",
      "14758           0    0        3  \n",
      "14759           0    0        0  \n",
      "14760           0    0        0  \n",
      "\n",
      "[14761 rows x 7 columns]\n"
     ]
    }
   ],
   "source": [
    "print(imdbDataFrame)"
   ]
  },
  {
   "cell_type": "code",
   "execution_count": 108,
   "id": "589183ea-69e5-4f4e-aa9d-2a38897743a5",
   "metadata": {},
   "outputs": [
    {
     "data": {
      "text/plain": [
       "<Axes: ylabel='Frequency'>"
      ]
     },
     "execution_count": 108,
     "metadata": {},
     "output_type": "execute_result"
    },
    {
     "data": {
      "image/png": "[encoded data removed]",
      "text/plain": [
       "<Figure size 640x480 with 1 Axes>"
      ]
     },
     "metadata": {},
     "output_type": "display_data"
    }
   ],
   "source": [
    "imdbDataFrame.plot.hist()"
   ]
  },
  {
   "cell_type": "code",
   "execution_count": null,
   "id": "ca4f6950-3c6e-4e88-970a-c5c41eeb010c",
   "metadata": {},
   "outputs": [],
   "source": []
  }
 ],
 "metadata": {
  "kernelspec": {
   "display_name": "Python [conda env:base] *",
   "language": "python",
   "name": "conda-base-py"
  },
  "language_info": {
   "codemirror_mode": {
    "name": "ipython",
    "version": 3
   },
   "file_extension": ".py",
   "mimetype": "text/x-python",
   "name": "python",
   "nbconvert_exporter": "python",
   "pygments_lexer": "ipython3",
   "version": "3.12.7"
  }
 },
 "nbformat": 4,
 "nbformat_minor": 5
}
